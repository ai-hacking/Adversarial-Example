{
  "nbformat": 4,
  "nbformat_minor": 0,
  "metadata": {
    "colab": {
      "name": "Attack for MNIST DNN Model.ipynb",
      "version": "0.3.2",
      "provenance": [],
      "collapsed_sections": []
    },
    "kernelspec": {
      "name": "python3",
      "display_name": "Python 3"
    }
  },
  "cells": [
    {
      "cell_type": "code",
      "metadata": {
        "id": "1YVyxmvku4D-",
        "colab_type": "code",
        "colab": {}
      },
      "source": [
        "from __future__ import print_function\n",
        "import torch\n",
        "import torch.nn as nn\n",
        "import torch.nn.functional as F\n",
        "import torch.optim as optim\n",
        "from torchvision import datasets, transforms\n",
        "from torch.autograd import Variable"
      ],
      "execution_count": 0,
      "outputs": []
    },
    {
      "cell_type": "code",
      "metadata": {
        "id": "rEkKgcSgu8sI",
        "colab_type": "code",
        "colab": {}
      },
      "source": [
        "# 배치 사이즈 설정\n",
        "batch_size = 64\n",
        "\n",
        "# MNIST 데이터 세트를 이용합니다.\n",
        "train_dataset = datasets.MNIST(root='./mnist_data/',\n",
        "                               train=True,\n",
        "                               transform=transforms.ToTensor(),\n",
        "                               download=True)\n",
        "\n",
        "test_dataset = datasets.MNIST(root='./mnist_data/',\n",
        "                              train=False,\n",
        "                              transform=transforms.ToTensor())"
      ],
      "execution_count": 0,
      "outputs": []
    },
    {
      "cell_type": "code",
      "metadata": {
        "id": "-06G-EFfu-2W",
        "colab_type": "code",
        "colab": {}
      },
      "source": [
        "# 데이터 로더를 이용하여 데이터를 불러올 수 있습니다.\n",
        "train_loader = torch.utils.data.DataLoader(dataset=train_dataset,\n",
        "                                           batch_size=batch_size,\n",
        "                                           shuffle=True)\n",
        "\n",
        "test_loader = torch.utils.data.DataLoader(dataset=test_dataset,\n",
        "                                          batch_size=batch_size,\n",
        "                                          shuffle=False)"
      ],
      "execution_count": 0,
      "outputs": []
    },
    {
      "cell_type": "code",
      "metadata": {
        "id": "kEHKWi2mu9qn",
        "colab_type": "code",
        "colab": {}
      },
      "source": [
        "# 임의의 이미지 분류 딥 뉴럴 네트워크 선언\n",
        "class Net(nn.Module):\n",
        "\n",
        "    def __init__(self):\n",
        "        super(Net, self).__init__()\n",
        "        self.l1 = nn.Linear(784, 520) # 입력층\n",
        "        self.l2 = nn.Linear(520, 320)\n",
        "        self.l3 = nn.Linear(320, 240)\n",
        "        self.l4 = nn.Linear(240, 120)\n",
        "        self.l5 = nn.Linear(120, 10) # 10개로 분류\n",
        "\n",
        "    def forward(self, x):\n",
        "        x = x.view(-1, 784)  # (배치 사이즈, 1, 28, 28) 크기의 데이터를 (배치 사이즈, 784) 형태로 변경합니다.\n",
        "        x = F.relu(self.l1(x))\n",
        "        x = F.relu(self.l2(x))\n",
        "        x = F.relu(self.l3(x))\n",
        "        x = F.relu(self.l4(x))\n",
        "        return self.l5(x)\n",
        "\n",
        "\n",
        "model = Net()\n",
        "\n",
        "criterion = nn.CrossEntropyLoss()\n",
        "optimizer = optim.SGD(model.parameters(), lr=0.01, momentum=0.5)"
      ],
      "execution_count": 0,
      "outputs": []
    },
    {
      "cell_type": "code",
      "metadata": {
        "id": "yNAg01Y2vAbm",
        "colab_type": "code",
        "colab": {}
      },
      "source": [
        "def train(epoch):\n",
        "    model.train()\n",
        "    for batch_idx, (data, target) in enumerate(train_loader):\n",
        "        data, target = Variable(data), Variable(target)\n",
        "        optimizer.zero_grad()\n",
        "        output = model(data)\n",
        "        loss = criterion(output, target)\n",
        "        loss.backward()\n",
        "        optimizer.step()\n",
        "        if batch_idx % 100 == 0:\n",
        "            print('Train Epoch: {} [{}/{} ({:.0f}%)]\\tLoss: {:.8f}'.format(\n",
        "                epoch, batch_idx * len(data), len(train_loader.dataset),\n",
        "                100. * batch_idx / len(train_loader), loss.data))\n",
        "            \n",
        "# 배치 한 번에 대한 data와 target 정보 가져오기\n",
        "get_data = []\n",
        "get_target = []\n",
        "got = False \n",
        "\n",
        "def test():\n",
        "    model.eval()\n",
        "    test_loss = 0\n",
        "    correct = 0\n",
        "    for data, target in test_loader:\n",
        "        data, target = Variable(data, volatile=True), Variable(target)\n",
        "        global got\n",
        "        if not got:\n",
        "          get_data.append(data)\n",
        "          get_target.append(target)\n",
        "          got = True\n",
        "        output = model(data)\n",
        "        # sum up batch loss\n",
        "        test_loss += criterion(output, target).data\n",
        "        # get the index of the max\n",
        "        pred = output.data.max(1, keepdim=True)[1]\n",
        "        correct += pred.eq(target.data.view_as(pred)).cpu().sum()\n",
        "\n",
        "    test_loss /= len(test_loader.dataset)\n",
        "    print('\\nTest set: Average loss: {:.4f}, Accuracy: {}/{} ({:.0f}%)\\n'.format(\n",
        "        test_loss, correct, len(test_loader.dataset),\n",
        "        100. * correct / len(test_loader.dataset)))"
      ],
      "execution_count": 0,
      "outputs": []
    },
    {
      "cell_type": "code",
      "metadata": {
        "id": "fnqF2sScvC8D",
        "colab_type": "code",
        "outputId": "99b3e43c-addb-48c0-99ce-a628fac57ad0",
        "colab": {
          "base_uri": "https://localhost:8080/",
          "height": 1000
        }
      },
      "source": [
        "# 학습 수행\n",
        "for epoch in range(0, 10):\n",
        "  train(epoch)\n",
        "  test()"
      ],
      "execution_count": 0,
      "outputs": [
        {
          "output_type": "stream",
          "text": [
            "Train Epoch: 0 [0/60000 (0%)]\tLoss: 2.29774189\n",
            "Train Epoch: 0 [6400/60000 (11%)]\tLoss: 2.31107497\n",
            "Train Epoch: 0 [12800/60000 (21%)]\tLoss: 2.30224872\n",
            "Train Epoch: 0 [19200/60000 (32%)]\tLoss: 2.28736734\n",
            "Train Epoch: 0 [25600/60000 (43%)]\tLoss: 2.28284836\n",
            "Train Epoch: 0 [32000/60000 (53%)]\tLoss: 2.27490926\n",
            "Train Epoch: 0 [38400/60000 (64%)]\tLoss: 2.24955773\n",
            "Train Epoch: 0 [44800/60000 (75%)]\tLoss: 2.23057199\n",
            "Train Epoch: 0 [51200/60000 (85%)]\tLoss: 2.14722085\n",
            "Train Epoch: 0 [57600/60000 (96%)]\tLoss: 1.90413511\n"
          ],
          "name": "stdout"
        },
        {
          "output_type": "stream",
          "text": [
            "/usr/local/lib/python3.6/dist-packages/ipykernel_launcher.py:25: UserWarning: volatile was removed and now has no effect. Use `with torch.no_grad():` instead.\n"
          ],
          "name": "stderr"
        },
        {
          "output_type": "stream",
          "text": [
            "\n",
            "Test set: Average loss: 0.0272, Accuracy: 4427/10000 (44%)\n",
            "\n",
            "Train Epoch: 1 [0/60000 (0%)]\tLoss: 1.80065191\n",
            "Train Epoch: 1 [6400/60000 (11%)]\tLoss: 1.42838001\n",
            "Train Epoch: 1 [12800/60000 (21%)]\tLoss: 0.95072317\n",
            "Train Epoch: 1 [19200/60000 (32%)]\tLoss: 0.73783684\n",
            "Train Epoch: 1 [25600/60000 (43%)]\tLoss: 0.67243677\n",
            "Train Epoch: 1 [32000/60000 (53%)]\tLoss: 0.72282821\n",
            "Train Epoch: 1 [38400/60000 (64%)]\tLoss: 0.76012862\n",
            "Train Epoch: 1 [44800/60000 (75%)]\tLoss: 0.61376834\n",
            "Train Epoch: 1 [51200/60000 (85%)]\tLoss: 0.57562184\n",
            "Train Epoch: 1 [57600/60000 (96%)]\tLoss: 0.54321486\n",
            "\n",
            "Test set: Average loss: 0.0067, Accuracy: 8717/10000 (87%)\n",
            "\n",
            "Train Epoch: 2 [0/60000 (0%)]\tLoss: 0.47642353\n",
            "Train Epoch: 2 [6400/60000 (11%)]\tLoss: 0.26871383\n",
            "Train Epoch: 2 [12800/60000 (21%)]\tLoss: 0.54879725\n",
            "Train Epoch: 2 [19200/60000 (32%)]\tLoss: 0.23233993\n",
            "Train Epoch: 2 [25600/60000 (43%)]\tLoss: 0.33285114\n",
            "Train Epoch: 2 [32000/60000 (53%)]\tLoss: 0.30322838\n",
            "Train Epoch: 2 [38400/60000 (64%)]\tLoss: 0.31908777\n",
            "Train Epoch: 2 [44800/60000 (75%)]\tLoss: 0.18858074\n",
            "Train Epoch: 2 [51200/60000 (85%)]\tLoss: 0.45591229\n",
            "Train Epoch: 2 [57600/60000 (96%)]\tLoss: 0.33553505\n",
            "\n",
            "Test set: Average loss: 0.0046, Accuracy: 9146/10000 (91%)\n",
            "\n",
            "Train Epoch: 3 [0/60000 (0%)]\tLoss: 0.31155950\n",
            "Train Epoch: 3 [6400/60000 (11%)]\tLoss: 0.59822035\n",
            "Train Epoch: 3 [12800/60000 (21%)]\tLoss: 0.35734630\n",
            "Train Epoch: 3 [19200/60000 (32%)]\tLoss: 0.22125749\n",
            "Train Epoch: 3 [25600/60000 (43%)]\tLoss: 0.27214047\n",
            "Train Epoch: 3 [32000/60000 (53%)]\tLoss: 0.28061131\n",
            "Train Epoch: 3 [38400/60000 (64%)]\tLoss: 0.20021445\n",
            "Train Epoch: 3 [44800/60000 (75%)]\tLoss: 0.26072219\n",
            "Train Epoch: 3 [51200/60000 (85%)]\tLoss: 0.21669146\n",
            "Train Epoch: 3 [57600/60000 (96%)]\tLoss: 0.39855397\n",
            "\n",
            "Test set: Average loss: 0.0036, Accuracy: 9307/10000 (93%)\n",
            "\n",
            "Train Epoch: 4 [0/60000 (0%)]\tLoss: 0.16088244\n",
            "Train Epoch: 4 [6400/60000 (11%)]\tLoss: 0.18491034\n",
            "Train Epoch: 4 [12800/60000 (21%)]\tLoss: 0.22748566\n",
            "Train Epoch: 4 [19200/60000 (32%)]\tLoss: 0.21542290\n",
            "Train Epoch: 4 [25600/60000 (43%)]\tLoss: 0.51774853\n",
            "Train Epoch: 4 [32000/60000 (53%)]\tLoss: 0.16814673\n",
            "Train Epoch: 4 [38400/60000 (64%)]\tLoss: 0.40113342\n",
            "Train Epoch: 4 [44800/60000 (75%)]\tLoss: 0.31455007\n",
            "Train Epoch: 4 [51200/60000 (85%)]\tLoss: 0.13093467\n",
            "Train Epoch: 4 [57600/60000 (96%)]\tLoss: 0.38287202\n",
            "\n",
            "Test set: Average loss: 0.0028, Accuracy: 9482/10000 (94%)\n",
            "\n",
            "Train Epoch: 5 [0/60000 (0%)]\tLoss: 0.24665743\n",
            "Train Epoch: 5 [6400/60000 (11%)]\tLoss: 0.20359826\n",
            "Train Epoch: 5 [12800/60000 (21%)]\tLoss: 0.06437274\n",
            "Train Epoch: 5 [19200/60000 (32%)]\tLoss: 0.12874967\n",
            "Train Epoch: 5 [25600/60000 (43%)]\tLoss: 0.17599176\n",
            "Train Epoch: 5 [32000/60000 (53%)]\tLoss: 0.14884490\n",
            "Train Epoch: 5 [38400/60000 (64%)]\tLoss: 0.15352379\n",
            "Train Epoch: 5 [44800/60000 (75%)]\tLoss: 0.18971275\n",
            "Train Epoch: 5 [51200/60000 (85%)]\tLoss: 0.19855137\n",
            "Train Epoch: 5 [57600/60000 (96%)]\tLoss: 0.21942590\n",
            "\n",
            "Test set: Average loss: 0.0023, Accuracy: 9562/10000 (95%)\n",
            "\n",
            "Train Epoch: 6 [0/60000 (0%)]\tLoss: 0.06047353\n",
            "Train Epoch: 6 [6400/60000 (11%)]\tLoss: 0.11872111\n",
            "Train Epoch: 6 [12800/60000 (21%)]\tLoss: 0.28519577\n",
            "Train Epoch: 6 [19200/60000 (32%)]\tLoss: 0.08087602\n",
            "Train Epoch: 6 [25600/60000 (43%)]\tLoss: 0.03510851\n",
            "Train Epoch: 6 [32000/60000 (53%)]\tLoss: 0.20076969\n",
            "Train Epoch: 6 [38400/60000 (64%)]\tLoss: 0.05845571\n",
            "Train Epoch: 6 [44800/60000 (75%)]\tLoss: 0.16012762\n",
            "Train Epoch: 6 [51200/60000 (85%)]\tLoss: 0.06309976\n",
            "Train Epoch: 6 [57600/60000 (96%)]\tLoss: 0.07673725\n",
            "\n",
            "Test set: Average loss: 0.0021, Accuracy: 9598/10000 (95%)\n",
            "\n",
            "Train Epoch: 7 [0/60000 (0%)]\tLoss: 0.06074602\n",
            "Train Epoch: 7 [6400/60000 (11%)]\tLoss: 0.14093739\n",
            "Train Epoch: 7 [12800/60000 (21%)]\tLoss: 0.16908780\n",
            "Train Epoch: 7 [19200/60000 (32%)]\tLoss: 0.05171902\n",
            "Train Epoch: 7 [25600/60000 (43%)]\tLoss: 0.13229623\n",
            "Train Epoch: 7 [32000/60000 (53%)]\tLoss: 0.08398627\n",
            "Train Epoch: 7 [38400/60000 (64%)]\tLoss: 0.04417183\n",
            "Train Epoch: 7 [44800/60000 (75%)]\tLoss: 0.05073702\n",
            "Train Epoch: 7 [51200/60000 (85%)]\tLoss: 0.03697236\n",
            "Train Epoch: 7 [57600/60000 (96%)]\tLoss: 0.24041031\n",
            "\n",
            "Test set: Average loss: 0.0018, Accuracy: 9674/10000 (96%)\n",
            "\n",
            "Train Epoch: 8 [0/60000 (0%)]\tLoss: 0.11095224\n",
            "Train Epoch: 8 [6400/60000 (11%)]\tLoss: 0.02832038\n",
            "Train Epoch: 8 [12800/60000 (21%)]\tLoss: 0.19230264\n",
            "Train Epoch: 8 [19200/60000 (32%)]\tLoss: 0.07600899\n",
            "Train Epoch: 8 [25600/60000 (43%)]\tLoss: 0.03732330\n",
            "Train Epoch: 8 [32000/60000 (53%)]\tLoss: 0.14695248\n",
            "Train Epoch: 8 [38400/60000 (64%)]\tLoss: 0.04832342\n",
            "Train Epoch: 8 [44800/60000 (75%)]\tLoss: 0.02271957\n",
            "Train Epoch: 8 [51200/60000 (85%)]\tLoss: 0.06102514\n",
            "Train Epoch: 8 [57600/60000 (96%)]\tLoss: 0.13134828\n",
            "\n",
            "Test set: Average loss: 0.0017, Accuracy: 9683/10000 (96%)\n",
            "\n",
            "Train Epoch: 9 [0/60000 (0%)]\tLoss: 0.11421780\n",
            "Train Epoch: 9 [6400/60000 (11%)]\tLoss: 0.12435957\n",
            "Train Epoch: 9 [12800/60000 (21%)]\tLoss: 0.11259864\n",
            "Train Epoch: 9 [19200/60000 (32%)]\tLoss: 0.11232007\n",
            "Train Epoch: 9 [25600/60000 (43%)]\tLoss: 0.07497924\n",
            "Train Epoch: 9 [32000/60000 (53%)]\tLoss: 0.17624053\n",
            "Train Epoch: 9 [38400/60000 (64%)]\tLoss: 0.13311107\n",
            "Train Epoch: 9 [44800/60000 (75%)]\tLoss: 0.17736199\n",
            "Train Epoch: 9 [51200/60000 (85%)]\tLoss: 0.16037504\n",
            "Train Epoch: 9 [57600/60000 (96%)]\tLoss: 0.09461965\n",
            "\n",
            "Test set: Average loss: 0.0016, Accuracy: 9707/10000 (97%)\n",
            "\n"
          ],
          "name": "stdout"
        }
      ]
    },
    {
      "cell_type": "code",
      "metadata": {
        "id": "KSWP-WJEy8H2",
        "colab_type": "code",
        "colab": {}
      },
      "source": [
        "# FGSM attack code\n",
        "def fgsm_attack(data, epsilon, data_grad):\n",
        "    # Collect the element-wise sign of the data gradient\n",
        "    sign_data_grad = data_grad.sign()\n",
        "    # Create the perturbed image by adjusting each pixel of the input image\n",
        "    perturbed_data = data + epsilon * sign_data_grad\n",
        "    # Return the perturbed image\n",
        "    return perturbed_data"
      ],
      "execution_count": 0,
      "outputs": []
    },
    {
      "cell_type": "code",
      "metadata": {
        "id": "3_r7D9WHvuMQ",
        "colab_type": "code",
        "outputId": "b8aa023a-297f-4823-f441-2a8e7e6b6012",
        "colab": {
          "base_uri": "https://localhost:8080/",
          "height": 305
        }
      },
      "source": [
        "import numpy as np\n",
        "import matplotlib.pyplot as plt\n",
        "\n",
        "# FGSM attack code\n",
        "def fgsm_attack(data, epsilon, data_grad):\n",
        "    # Collect the element-wise sign of the data gradient\n",
        "    sign_data_grad = data_grad.sign()\n",
        "    # Create the perturbed image by adjusting each pixel of the input image\n",
        "    perturbation = epsilon * sign_data_grad\n",
        "    # Return the perturbed image\n",
        "    return perturbation\n",
        "\n",
        "image_data = get_data[0][0] # 첫 번째 숫자 X\n",
        "print('숫자 이미지 X의 크기:', image_data.size())\n",
        "plt.imshow(image_data.numpy()[0], cmap='gray')"
      ],
      "execution_count": 0,
      "outputs": [
        {
          "output_type": "stream",
          "text": [
            "숫자 이미지 X의 크기: torch.Size([1, 28, 28])\n"
          ],
          "name": "stdout"
        },
        {
          "output_type": "execute_result",
          "data": {
            "text/plain": [
              "<matplotlib.image.AxesImage at 0x7ff53d848748>"
            ]
          },
          "metadata": {
            "tags": []
          },
          "execution_count": 21
        },
        {
          "output_type": "display_data",
          "data": {
            "image/png": "[encoded data removed]",
            "text/plain": [
              "<Figure size 432x288 with 1 Axes>"
            ]
          },
          "metadata": {
            "tags": []
          }
        }
      ]
    },
    {
      "cell_type": "code",
      "metadata": {
        "id": "cakzyE_CzyZd",
        "colab_type": "code",
        "outputId": "dd7cf89b-bdd9-462e-89e6-050424018c63",
        "colab": {
          "base_uri": "https://localhost:8080/",
          "height": 395
        }
      },
      "source": [
        "image_data.requires_grad = True\n",
        "target_value = torch.chunk(get_target[0], 64, dim=0)[0] # 첫 번째 숫자 X의 원래 분류 값\n",
        "expect_value = model(image_data) # 첫 번째 숫자 X의 예측 결과 계산\n",
        "print('X의 판정 결과:', expect_value)\n",
        "print('X의 분류 값:', target_value)\n",
        "\n",
        "# 원래 분류 값에 대한 Loss의 기울기 계산\n",
        "loss = criterion(expect_value, target_value)\n",
        "print('Y에 대한 X의 Loss 값:', loss)\n",
        "\n",
        "# 역전파 수행\n",
        "loss.backward()\n",
        "# 각 차원(픽셀)에 따른 기울기 값 계산\n",
        "data_grad = image_data.grad.data\n",
        "\n",
        "# 그냥 부호만 채택하여 입실론 만큼 곱하기\n",
        "perturbation = fgsm_attack(image_data, 0.25, data_grad)\n",
        "\n",
        "# 만들어진 Perturbation 가져오기\n",
        "perturbation = perturbation[0]\n",
        "output = model(perturbation)\n",
        "print('Perturbation의 예측 결과: ', output)\n",
        "\n",
        "perturbation_image = perturbation.detach().numpy() # Perturbation 이미지 출력을 위한 Numpy 변환\n",
        "plt.imshow(perturbation_image, cmap='gray', vmin=0, vmax=1) # 출력할 때 최소는 0, 최대는 1로 설정해야 정상 동작"
      ],
      "execution_count": 0,
      "outputs": [
        {
          "output_type": "stream",
          "text": [
            "X의 판정 결과: tensor([[ -2.3541,   0.1431,   3.0336,   5.0114,  -8.6109,  -2.4930, -14.8356,\n",
            "          12.9158,   1.0161,   5.5949]], grad_fn=<AddmmBackward>)\n",
            "X의 분류 값: tensor([7])\n",
            "Y에 대한 X의 Loss 값: tensor(0.0011, grad_fn=<NllLossBackward>)\n",
            "Perturbation의 예측 결과:  tensor([[ -0.6863,   0.5825,  -0.5751,   2.1612,  -4.5268,   8.1236,   5.0366,\n",
            "         -10.4269,   4.6869,  -3.3598]], grad_fn=<AddmmBackward>)\n"
          ],
          "name": "stdout"
        },
        {
          "output_type": "execute_result",
          "data": {
            "text/plain": [
              "<matplotlib.image.AxesImage at 0x7ff53d823d30>"
            ]
          },
          "metadata": {
            "tags": []
          },
          "execution_count": 22
        },
        {
          "output_type": "display_data",
          "data": {
            "image/png": "[encoded data removed]",
            "text/plain": [
              "<Figure size 432x288 with 1 Axes>"
            ]
          },
          "metadata": {
            "tags": []
          }
        }
      ]
    },
    {
      "cell_type": "code",
      "metadata": {
        "id": "rFX92g3yuJi-",
        "colab_type": "code",
        "outputId": "06b36621-3ee7-4bf1-e1dd-1ed236ed60d0",
        "colab": {
          "base_uri": "https://localhost:8080/",
          "height": 341
        }
      },
      "source": [
        "# 최종적으로 만들어진 Adversarial Example\n",
        "adversarial_example = image_data + perturbation\n",
        "adversarial_example = torch.clamp(adversarial_example, 0, 1) # 0부터 1사이의 값이 아니라면 가지치기\n",
        "plt.imshow(adversarial_example.detach().numpy()[0], cmap='gray', vmin=0, vmax=1)\n",
        "\n",
        "# Adversarial Example의 예측 결과 계산\n",
        "expect_value = model(adversarial_example)\n",
        "print('Adversarial Example의 판정 결과:', expect_value)\n",
        "print('가장 가까운 숫자:', expect_value.data.max(1, keepdim=True)[1])\n",
        "\n",
        "# 원래 분류 값에 대한 Loss의 기울기 계산\n",
        "loss = criterion(expect_value, target_value)\n",
        "print('Y에 대한 Adversarial Example의 Loss 값:', loss)"
      ],
      "execution_count": 0,
      "outputs": [
        {
          "output_type": "stream",
          "text": [
            "Adversarial Example의 판정 결과: tensor([[ -0.2700,  -1.1158,  -0.1620,   9.5920, -13.2958,   9.7336,  -4.0752,\n",
            "          -7.0577,   6.1908,   1.4546]], grad_fn=<AddmmBackward>)\n",
            "가장 가까운 숫자: tensor([[5]])\n",
            "Y에 대한 Adversarial Example의 Loss 값: tensor(17.4318, grad_fn=<NllLossBackward>)\n"
          ],
          "name": "stdout"
        },
        {
          "output_type": "display_data",
          "data": {
            "image/png": "[encoded data removed]",
            "text/plain": [
              "<Figure size 432x288 with 1 Axes>"
            ]
          },
          "metadata": {
            "tags": []
          }
        }
      ]
    },
    {
      "cell_type": "code",
      "metadata": {
        "id": "0uf_Onyd8t4u",
        "colab_type": "code",
        "colab": {}
      },
      "source": [
        ""
      ],
      "execution_count": 0,
      "outputs": []
    }
  ]
}